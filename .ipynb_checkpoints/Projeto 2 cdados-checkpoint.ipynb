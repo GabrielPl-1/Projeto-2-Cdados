{
 "cells": [
  {
   "cell_type": "markdown",
   "metadata": {},
   "source": [
    "# Projeto 2 - Ciência dos dados"
   ]
  },
  {
   "cell_type": "markdown",
   "metadata": {},
   "source": [
    "Integrantes: \n",
    "<ul>\n",
    "    <li>Caio Garcia</li>\n",
    "    <li>Gabriel Penna</li>\n",
    "    <li>Lucas ulson</li>\n",
    "    <li>Douglas</li>\n",
    "</ul>"
   ]
  },
  {
   "cell_type": "markdown",
   "metadata": {},
   "source": [
    "Objetivo do trabalho: Realizar modelos de predição para encontrar possíveis padrões e respostas para analise da nossa base de dados, a qual fala sobre o aumento no número de horas dos aparelhos eletrônicos em um período de pandemia. "
   ]
  },
  {
   "cell_type": "markdown",
   "metadata": {},
   "source": [
    "<h2> Bibliotecas a serem utilizadas </h2>"
   ]
  },
  {
   "cell_type": "code",
   "execution_count": 4,
   "metadata": {},
   "outputs": [],
   "source": [
    "%matplotlib inline\n",
    "import pandas as pd\n",
    "import os\n",
    "import matplotlib.pyplot as plt\n",
    "import numpy as np\n",
    "from math import *"
   ]
  },
  {
   "cell_type": "markdown",
   "metadata": {},
   "source": [
    "<h2>Lendo a base de dados </h2>"
   ]
  },
  {
   "cell_type": "code",
   "execution_count": 5,
   "metadata": {},
   "outputs": [
    {
     "data": {
      "text/html": [
       "<div>\n",
       "<style scoped>\n",
       "    .dataframe tbody tr th:only-of-type {\n",
       "        vertical-align: middle;\n",
       "    }\n",
       "\n",
       "    .dataframe tbody tr th {\n",
       "        vertical-align: top;\n",
       "    }\n",
       "\n",
       "    .dataframe thead th {\n",
       "        text-align: right;\n",
       "    }\n",
       "</style>\n",
       "<table border=\"1\" class=\"dataframe\">\n",
       "  <thead>\n",
       "    <tr style=\"text-align: right;\">\n",
       "      <th></th>\n",
       "      <th>Idade</th>\n",
       "      <th>Gênero</th>\n",
       "      <th>Estado</th>\n",
       "      <th>Emprego</th>\n",
       "      <th>Horas</th>\n",
       "      <th>Vontade</th>\n",
       "      <th>Pandemia</th>\n",
       "      <th>Aumento</th>\n",
       "      <th>Retomada</th>\n",
       "      <th>Ajuda</th>\n",
       "    </tr>\n",
       "  </thead>\n",
       "  <tbody>\n",
       "    <tr>\n",
       "      <th>0</th>\n",
       "      <td>18</td>\n",
       "      <td>Masculino</td>\n",
       "      <td>Solteiro</td>\n",
       "      <td>Estudante universitário</td>\n",
       "      <td>7 a 10 horas</td>\n",
       "      <td>Sim</td>\n",
       "      <td>Sim, aumentei o numero de horas</td>\n",
       "      <td>4</td>\n",
       "      <td>Sim</td>\n",
       "      <td>Sim</td>\n",
       "    </tr>\n",
       "    <tr>\n",
       "      <th>1</th>\n",
       "      <td>18</td>\n",
       "      <td>Masculino</td>\n",
       "      <td>Solteiro</td>\n",
       "      <td>Estudante universitário</td>\n",
       "      <td>7 a 10 horas</td>\n",
       "      <td>Sim</td>\n",
       "      <td>Sim, aumentei o numero de horas</td>\n",
       "      <td>1</td>\n",
       "      <td>Sim</td>\n",
       "      <td>Sim</td>\n",
       "    </tr>\n",
       "    <tr>\n",
       "      <th>2</th>\n",
       "      <td>19</td>\n",
       "      <td>Masculino</td>\n",
       "      <td>Solteiro</td>\n",
       "      <td>Estudante universitário</td>\n",
       "      <td>Mais de 10 horas</td>\n",
       "      <td>Não</td>\n",
       "      <td>Sim, aumentei o numero de horas</td>\n",
       "      <td>2</td>\n",
       "      <td>Não</td>\n",
       "      <td>Sim</td>\n",
       "    </tr>\n",
       "    <tr>\n",
       "      <th>3</th>\n",
       "      <td>19</td>\n",
       "      <td>Feminino</td>\n",
       "      <td>Solteiro</td>\n",
       "      <td>Estudante universitário</td>\n",
       "      <td>7 a 10 horas</td>\n",
       "      <td>Sim</td>\n",
       "      <td>Sim, aumentei o numero de horas</td>\n",
       "      <td>4</td>\n",
       "      <td>Parcialmente</td>\n",
       "      <td>Sim</td>\n",
       "    </tr>\n",
       "    <tr>\n",
       "      <th>4</th>\n",
       "      <td>48</td>\n",
       "      <td>Masculino</td>\n",
       "      <td>Casado</td>\n",
       "      <td>Empregador</td>\n",
       "      <td>7 a 10 horas</td>\n",
       "      <td>Não</td>\n",
       "      <td>Sim, aumentei o numero de horas</td>\n",
       "      <td>6</td>\n",
       "      <td>Parcialmente</td>\n",
       "      <td>Sim</td>\n",
       "    </tr>\n",
       "    <tr>\n",
       "      <th>...</th>\n",
       "      <td>...</td>\n",
       "      <td>...</td>\n",
       "      <td>...</td>\n",
       "      <td>...</td>\n",
       "      <td>...</td>\n",
       "      <td>...</td>\n",
       "      <td>...</td>\n",
       "      <td>...</td>\n",
       "      <td>...</td>\n",
       "      <td>...</td>\n",
       "    </tr>\n",
       "    <tr>\n",
       "      <th>188</th>\n",
       "      <td>18</td>\n",
       "      <td>Feminino</td>\n",
       "      <td>Solteiro</td>\n",
       "      <td>Estudante universitário</td>\n",
       "      <td>7 a 10 horas</td>\n",
       "      <td>Sim</td>\n",
       "      <td>Sim, aumentei o numero de horas</td>\n",
       "      <td>7</td>\n",
       "      <td>Sim</td>\n",
       "      <td>Sim</td>\n",
       "    </tr>\n",
       "    <tr>\n",
       "      <th>189</th>\n",
       "      <td>16</td>\n",
       "      <td>Feminino</td>\n",
       "      <td>Solteiro</td>\n",
       "      <td>Estudante de colegial</td>\n",
       "      <td>7 a 10 horas</td>\n",
       "      <td>Sim</td>\n",
       "      <td>Sim, aumentei o numero de horas</td>\n",
       "      <td>4</td>\n",
       "      <td>Sim</td>\n",
       "      <td>Sim</td>\n",
       "    </tr>\n",
       "    <tr>\n",
       "      <th>190</th>\n",
       "      <td>17</td>\n",
       "      <td>Masculino</td>\n",
       "      <td>Solteiro</td>\n",
       "      <td>Estudante de colegial</td>\n",
       "      <td>De 1 a 3 horas</td>\n",
       "      <td>Não</td>\n",
       "      <td>Sim, aumentei o numero de horas</td>\n",
       "      <td>1</td>\n",
       "      <td>Sim</td>\n",
       "      <td>Sim</td>\n",
       "    </tr>\n",
       "    <tr>\n",
       "      <th>191</th>\n",
       "      <td>22</td>\n",
       "      <td>Feminino</td>\n",
       "      <td>Solteiro</td>\n",
       "      <td>Empregado</td>\n",
       "      <td>4 a 6 horas</td>\n",
       "      <td>Sim</td>\n",
       "      <td>Sim, diminui o número de horas</td>\n",
       "      <td>1</td>\n",
       "      <td>Parcialmente</td>\n",
       "      <td>Sim</td>\n",
       "    </tr>\n",
       "    <tr>\n",
       "      <th>192</th>\n",
       "      <td>15</td>\n",
       "      <td>Feminino</td>\n",
       "      <td>Solteiro</td>\n",
       "      <td>Estudante de colegial</td>\n",
       "      <td>De 1 a 3 horas</td>\n",
       "      <td>Não</td>\n",
       "      <td>Não</td>\n",
       "      <td>0</td>\n",
       "      <td>Sim</td>\n",
       "      <td>Sim</td>\n",
       "    </tr>\n",
       "  </tbody>\n",
       "</table>\n",
       "<p>193 rows × 10 columns</p>\n",
       "</div>"
      ],
      "text/plain": [
       "     Idade     Gênero    Estado                  Emprego             Horas  \\\n",
       "0       18  Masculino  Solteiro  Estudante universitário      7 a 10 horas   \n",
       "1       18  Masculino  Solteiro  Estudante universitário      7 a 10 horas   \n",
       "2       19  Masculino  Solteiro  Estudante universitário  Mais de 10 horas   \n",
       "3       19   Feminino  Solteiro  Estudante universitário      7 a 10 horas   \n",
       "4       48  Masculino    Casado               Empregador      7 a 10 horas   \n",
       "..     ...        ...       ...                      ...               ...   \n",
       "188     18   Feminino  Solteiro  Estudante universitário      7 a 10 horas   \n",
       "189     16   Feminino  Solteiro    Estudante de colegial      7 a 10 horas   \n",
       "190     17  Masculino  Solteiro    Estudante de colegial    De 1 a 3 horas   \n",
       "191     22   Feminino  Solteiro                Empregado       4 a 6 horas   \n",
       "192     15   Feminino  Solteiro    Estudante de colegial    De 1 a 3 horas   \n",
       "\n",
       "    Vontade                         Pandemia  Aumento      Retomada Ajuda  \n",
       "0       Sim  Sim, aumentei o numero de horas        4           Sim   Sim  \n",
       "1       Sim  Sim, aumentei o numero de horas        1           Sim   Sim  \n",
       "2       Não  Sim, aumentei o numero de horas        2           Não   Sim  \n",
       "3       Sim  Sim, aumentei o numero de horas        4  Parcialmente   Sim  \n",
       "4       Não  Sim, aumentei o numero de horas        6  Parcialmente   Sim  \n",
       "..      ...                              ...      ...           ...   ...  \n",
       "188     Sim  Sim, aumentei o numero de horas        7           Sim   Sim  \n",
       "189     Sim  Sim, aumentei o numero de horas        4           Sim   Sim  \n",
       "190     Não  Sim, aumentei o numero de horas        1           Sim   Sim  \n",
       "191     Sim   Sim, diminui o número de horas        1  Parcialmente   Sim  \n",
       "192     Não                              Não        0           Sim   Sim  \n",
       "\n",
       "[193 rows x 10 columns]"
      ]
     },
     "execution_count": 5,
     "metadata": {},
     "output_type": "execute_result"
    }
   ],
   "source": [
    "dados = pd.read_excel(\"../Projeto_2_cdados.xlsx\")\n",
    "dados"
   ]
  },
  {
   "cell_type": "markdown",
   "metadata": {},
   "source": [
    "<h2>Lendo a base de dados</h2>"
   ]
  },
  {
   "cell_type": "markdown",
   "metadata": {},
   "source": [
    "<h3>Idade</h3>"
   ]
  },
  {
   "cell_type": "code",
   "execution_count": 6,
   "metadata": {},
   "outputs": [
    {
     "data": {
      "image/png": "[encoded data removed]",
      "text/plain": [
       "<Figure size 1080x360 with 1 Axes>"
      ]
     },
     "metadata": {
      "needs_background": "light"
     },
     "output_type": "display_data"
    }
   ],
   "source": [
    "plt.figure(figsize=(15, 5))\n",
    "plt.hist(dados['Idade'], bins=40, density=True,edgecolor='white',)\n",
    "plt.ylabel('Densidade')\n",
    "plt.xlabel('Idade (em anos)')\n",
    "plt.title('Idades dos participantes')\n",
    "plt.show()"
   ]
  },
  {
   "cell_type": "code",
   "execution_count": 7,
   "metadata": {},
   "outputs": [
    {
     "data": {
      "text/plain": [
       "count    193.000000\n",
       "mean      19.689119\n",
       "std        8.030978\n",
       "min       13.000000\n",
       "25%       17.000000\n",
       "50%       18.000000\n",
       "75%       19.000000\n",
       "max       63.000000\n",
       "Name: Idade, dtype: float64"
      ]
     },
     "execution_count": 7,
     "metadata": {},
     "output_type": "execute_result"
    }
   ],
   "source": [
    "dados.Idade.describe()"
   ]
  },
  {
   "cell_type": "markdown",
   "metadata": {},
   "source": [
    "Pelos dados que obtivemos acima, podemos perceber que o nosso público tem como média de idade 19 anos, isso ocorre pois, a pesquisa foi realizada principalmente entre amigos e colegas dos participantes."
   ]
  },
  {
   "cell_type": "markdown",
   "metadata": {},
   "source": [
    "<h3>Sexo</h3>"
   ]
  },
  {
   "cell_type": "code",
   "execution_count": 8,
   "metadata": {},
   "outputs": [
    {
     "data": {
      "text/plain": [
       "Feminino     0.626943\n",
       "Masculino    0.367876\n",
       "Outro        0.005181\n",
       "Name: Gênero, dtype: float64"
      ]
     },
     "execution_count": 8,
     "metadata": {},
     "output_type": "execute_result"
    }
   ],
   "source": [
    "dados.Gênero.value_counts(True)"
   ]
  },
  {
   "cell_type": "code",
   "execution_count": 9,
   "metadata": {},
   "outputs": [
    {
     "data": {
      "image/png": "[encoded data removed]",
      "text/plain": [
       "<Figure size 432x288 with 1 Axes>"
      ]
     },
     "metadata": {},
     "output_type": "display_data"
    }
   ],
   "source": [
    "divisao_sexo = dados.Gênero.value_counts()\n",
    "divisao_sexo.plot(kind='pie', title='Genêro dos participantes', autopct=\"%.2f\")\n",
    "plt.show()"
   ]
  },
  {
   "cell_type": "markdown",
   "metadata": {},
   "source": [
    "<h2>Estado civil</h2>"
   ]
  },
  {
   "cell_type": "code",
   "execution_count": 10,
   "metadata": {},
   "outputs": [
    {
     "data": {
      "text/plain": [
       "Solteiro    0.854922\n",
       "Outro       0.124352\n",
       "Casado      0.020725\n",
       "Name: Estado, dtype: float64"
      ]
     },
     "execution_count": 10,
     "metadata": {},
     "output_type": "execute_result"
    }
   ],
   "source": [
    "dados.Estado.value_counts(True)"
   ]
  },
  {
   "cell_type": "code",
   "execution_count": 11,
   "metadata": {},
   "outputs": [
    {
     "data": {
      "image/png": "[encoded data removed]",
      "text/plain": [
       "<Figure size 432x288 with 1 Axes>"
      ]
     },
     "metadata": {},
     "output_type": "display_data"
    }
   ],
   "source": [
    "divisao_estado = dados.Estado.value_counts()\n",
    "divisao_estado.plot(kind='pie', title='Estado civil dos participantes', autopct=\"%.2f\")\n",
    "plt.show()"
   ]
  },
  {
   "cell_type": "markdown",
   "metadata": {},
   "source": [
    "<h2>Ocupação</h2>"
   ]
  },
  {
   "cell_type": "code",
   "execution_count": 12,
   "metadata": {},
   "outputs": [
    {
     "data": {
      "text/plain": [
       "Estudante universitário    0.481865\n",
       "Estudante de colegial      0.430052\n",
       "Empregado                  0.062176\n",
       "Desempregado               0.015544\n",
       "Empregador                 0.010363\n",
       "Name: Emprego, dtype: float64"
      ]
     },
     "execution_count": 12,
     "metadata": {},
     "output_type": "execute_result"
    }
   ],
   "source": [
    "dados.Emprego.value_counts(True)"
   ]
  },
  {
   "cell_type": "code",
   "execution_count": 13,
   "metadata": {},
   "outputs": [
    {
     "data": {
      "image/png": "[encoded data removed]",
      "text/plain": [
       "<Figure size 1080x360 with 1 Axes>"
      ]
     },
     "metadata": {
      "needs_background": "light"
     },
     "output_type": "display_data"
    }
   ],
   "source": [
    "plt.figure(figsize=(15,5))\n",
    "plt.hist(dados['Emprego'],density=True)\n",
    "plt.ylabel(\"Densidade\")\n",
    "plt.title(\"Emprego dos participantes\")\n",
    "plt.show()"
   ]
  },
  {
   "cell_type": "code",
   "execution_count": null,
   "metadata": {},
   "outputs": [],
   "source": []
  },
  {
   "cell_type": "markdown",
   "metadata": {},
   "source": []
  },
  {
   "cell_type": "code",
   "execution_count": 14,
   "metadata": {},
   "outputs": [
    {
     "data": {
      "image/png": "[encoded data removed]",
      "text/plain": [
       "<Figure size 1080x360 with 1 Axes>"
      ]
     },
     "metadata": {
      "needs_background": "light"
     },
     "output_type": "display_data"
    }
   ],
   "source": [
    "plt.figure(figsize=(15,5))\n",
    "plt.hist(dados['Horas'][::-1])\n",
    "plt.ylabel(\"Densidade\")\n",
    "plt.title(\"Número de horas na frente do computador\")\n",
    "plt.show()"
   ]
  },
  {
   "cell_type": "code",
   "execution_count": 15,
   "metadata": {},
   "outputs": [
    {
     "data": {
      "image/png": "[encoded data removed]",
      "text/plain": [
       "<Figure size 1080x360 with 1 Axes>"
      ]
     },
     "metadata": {
      "needs_background": "light"
     },
     "output_type": "display_data"
    }
   ],
   "source": [
    "plt.figure(figsize=(15, 5))\n",
    "plt.hist(dados['Aumento'], bins=15, density=True,edgecolor='white',)\n",
    "plt.ylabel('Densidade')\n",
    "plt.xlabel('Aumento')\n",
    "plt.title('Número de horas que aumentou')\n",
    "plt.show()"
   ]
  },
  {
   "cell_type": "code",
   "execution_count": 19,
   "metadata": {},
   "outputs": [],
   "source": [
    "dadosMasc = dados.loc[dados.Gênero == \"Masculino\"]\n",
    "dadosFem = dados.loc[dados.Gênero == \"Feminino\"]"
   ]
  },
  {
   "cell_type": "code",
   "execution_count": 54,
   "metadata": {},
   "outputs": [
    {
     "data": {
      "image/png": "[encoded data removed]",
      "text/plain": [
       "<Figure size 1080x360 with 1 Axes>"
      ]
     },
     "metadata": {
      "needs_background": "light"
     },
     "output_type": "display_data"
    }
   ],
   "source": [
    "plt.figure(figsize=(15,5))\n",
    "bins = 5\n",
    "plt.hist([dadosMasc['Horas'][::-1], dadosFem['Horas'][::-1]], bins, label=['Homens', 'Mulheres'])\n",
    "plt.legend(loc='upper right')\n",
    "plt.title(\"Número de horas na frente do computador de Homens e Mulheres\")\n",
    "plt.show()"
   ]
  },
  {
   "cell_type": "code",
   "execution_count": null,
   "metadata": {},
   "outputs": [],
   "source": []
  }
 ],
 "metadata": {
  "kernelspec": {
   "display_name": "Python 3",
   "language": "python",
   "name": "python3"
  },
  "language_info": {
   "codemirror_mode": {
    "name": "ipython",
    "version": 3
   },
   "file_extension": ".py",
   "mimetype": "text/x-python",
   "name": "python",
   "nbconvert_exporter": "python",
   "pygments_lexer": "ipython3",
   "version": "3.8.8"
  }
 },
 "nbformat": 4,
 "nbformat_minor": 4
}
